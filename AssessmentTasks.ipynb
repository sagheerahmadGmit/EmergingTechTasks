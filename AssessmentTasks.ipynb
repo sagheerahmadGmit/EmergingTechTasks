{
 "cells": [
  {
   "cell_type": "markdown",
   "metadata": {},
   "source": [
    "# Tasks\n",
    "\n",
    "These are my solutions to the task. My name is Sagheer Ahmad (G00357770@gmit.ie).\n",
    "***"
   ]
  },
  {
   "cell_type": "markdown",
   "metadata": {},
   "source": [
    "#### Task: Calculate a square root\n",
    "\n",
    "We can calculate the square root of a number by using Newton's Method.[1,2]. \n",
    "To find the square root $z$ of a number, we can iterate using the following equation.\n",
    "\n",
    "$$ z_{next} = z - \\frac{z^2 -x}{2z} $$\n",
    "\n",
    "[1] A tour of GO; Exercise: Loops and functions; https://tour.golang.org/flowcontrol/8\n",
    "\n",
    "[2] Newthon's Method; https://en.wikipedia.org/wiki/Newton%27s_method"
   ]
  },
  {
   "cell_type": "code",
   "execution_count": 17,
   "metadata": {},
   "outputs": [],
   "source": [
    "#Calculate the sqaure root of a number\n",
    "def sqrt(x):\n",
    "    \"\"\"\n",
    "    A function to calculate the square root of a number x.\n",
    "    \"\"\"\n",
    "    # Initial guess for the square root z.\n",
    "    #z = x / 2\n",
    "    #multipy x by 10^(200)\n",
    "    x *= (10**(200))\n",
    "    y = 0\n",
    "    #set z to a googol\n",
    "    z = 1 * (10**100)\n",
    "    \n",
    "    # Loop until we are happy with the accuracy.\n",
    "    #abs gets the positive value\n",
    "    #while abs(x - (z * z)) > 0.000001: Newtons Method\n",
    "    \n",
    "    while y != z:\n",
    "        # Calculate a better guess for the square root.\n",
    "        #Newthon's Method\n",
    "        #z -= (z*z - x) / (2 * z)\n",
    "        \n",
    "        #set y to z\n",
    "        y = z\n",
    "        z = (y + (x // y)) >> 1\n",
    "        \n",
    "    # Return the (approximate) square root of x.\n",
    "    #convert to a float to add a decimal point\n",
    "    return float(z)"
   ]
  },
  {
   "cell_type": "markdown",
   "metadata": {},
   "source": [
    "##### Tests of the sqrt function - Testing the function with known values\n",
    "\n",
    "***"
   ]
  },
  {
   "cell_type": "code",
   "execution_count": 18,
   "metadata": {},
   "outputs": [
    {
     "data": {
      "text/plain": [
       "1.414213562373095e+100"
      ]
     },
     "execution_count": 18,
     "metadata": {},
     "output_type": "execute_result"
    }
   ],
   "source": [
    "#Test the function with random values\n",
    "sqrt(2)"
   ]
  },
  {
   "cell_type": "code",
   "execution_count": 14,
   "metadata": {},
   "outputs": [
    {
     "data": {
      "text/plain": [
       "2.2360679774997897e+100"
      ]
     },
     "execution_count": 14,
     "metadata": {},
     "output_type": "execute_result"
    }
   ],
   "source": [
    "sqrt(5)"
   ]
  }
 ],
 "metadata": {
  "kernelspec": {
   "display_name": "Python 3",
   "language": "python",
   "name": "python3"
  },
  "language_info": {
   "codemirror_mode": {
    "name": "ipython",
    "version": 3
   },
   "file_extension": ".py",
   "mimetype": "text/x-python",
   "name": "python",
   "nbconvert_exporter": "python",
   "pygments_lexer": "ipython3",
   "version": "3.8.3"
  }
 },
 "nbformat": 4,
 "nbformat_minor": 4
}
