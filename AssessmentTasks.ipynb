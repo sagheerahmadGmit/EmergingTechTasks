{
 "cells": [
  {
   "cell_type": "markdown",
   "metadata": {},
   "source": [
    "# Tasks\n",
    "\n",
    "These are my solutions to the tasks that I must complete for the 2020 Emerging Technology module. My name is Sagheer Ahmad (G00357770@gmit.ie).\n",
    "***"
   ]
  },
  {
   "cell_type": "markdown",
   "metadata": {},
   "source": [
    "#### Task: Calculate a square root to 100 decimal places\n",
    "\n",
    "One of the ways we can calculate the square root of a number is by using Newton's Method.[1,2,3]. Newton's Method uses a specific formula, seen below, to calculate the square root. It is known an an iterative method and approximates roots of equations. The algorithm starts off by guessing the square root of the given number as x > 0. It then computes a more accurate guess by taking the derivative of f(x) to get f'(x) and plug it into the formula. We then repeat the formula until we get a better and more accurate guess. The problem that I encountered with this formula was that it does not print out the value to 100 decimal places. It prints out the first 52 values and the rest are left as Zeros.\n",
    "\n",
    "<br />\n",
    "\n",
    "$$ z_{next} = z - \\frac{z^2 -x}{2z} $$\n",
    "\n",
    "<br /> <br />\n",
    "\n",
    "The formula shown below is another way of calculating the the square root of 2. The first thing the method is doing is setting the x value from the user to, x multiplied by 10 to the power of 200. This will take all the numbers from the right side of the decimal place and brings it to the left side. The method has 2 other variables, one is a variable used in the while loop while the other is a googol. The while loop keeps running until an accurate guess is made. Inside the while loop we are setting b to z and then calculating a better guess for z. The guess is using floor devision because we do not want any decimal places in the answer. The guess is also being bitshifted to the right, the bitshifting shifts the bits of the first operand right by the specified number of bits.[6] Once the guess is accurate the while loop stops and prints out the value. I first had it so the program prints the value z staright away but this was a problem because when it was printed out, the value was a big number with no decimal places. In order to add a decimal place the number had to be converted into a list and the . could be inserted then. The list is then joined together and printed out as a string.\n",
    "\n",
    "All References can be found in the README of this project."
   ]
  },
  {
   "cell_type": "code",
   "execution_count": 77,
   "metadata": {},
   "outputs": [],
   "source": [
    "#Calculate the sqaure root of a number\n",
    "def sqrt2(x):\n",
    "    \n",
    "    \"\"\"\n",
    "    A function to calculate the square root of a number x.\n",
    "    \"\"\"\n",
    "    \n",
    "    # Initial guess for the square root z.\n",
    "    #z = x / 2\n",
    "    \n",
    "    #while abs(x - (z * z)) > 0.000001: Newtons Method\n",
    "    #Newthon's Method\n",
    "        #z -= (z*z - x) / (2 * z)\n",
    "    \n",
    "    #bring all the numbers from the right to the left\n",
    "    x = x * (10**(200))\n",
    "    y = 0\n",
    "    #set z to a googol\n",
    "    z = 1 * (10**100)\n",
    "    \n",
    "    # Loop until we are happy with the accuracy.\n",
    "    while y != z:     \n",
    "        #set y to z\n",
    "        y = z\n",
    "        # get the square root and get the floor division\n",
    "        #bit shift 1 to the right\n",
    "        z = (y + (x // y)) >> 1\n",
    "        \n",
    "    #convert square root to a list\n",
    "    listZ = list(str(z))\n",
    "    #add the . after the first number\n",
    "    listZ.insert(1, '.')\n",
    "    #join the . to the numbers\n",
    "    num = \"\".join(listZ)\n",
    "    #return the (approximate) square root of x as a string\n",
    "    return num"
   ]
  },
  {
   "cell_type": "markdown",
   "metadata": {},
   "source": [
    "##### Tests of the sqrt function - Testing the function with known values\n",
    "\n",
    "***"
   ]
  },
  {
   "cell_type": "code",
   "execution_count": 78,
   "metadata": {},
   "outputs": [
    {
     "data": {
      "text/plain": [
       "'1.4142135623730950488016887242096980785696718753769480731766797379907324784621070388503875343276415727'"
      ]
     },
     "execution_count": 78,
     "metadata": {},
     "output_type": "execute_result"
    }
   ],
   "source": [
    "#Test the function with random values\n",
    "sqrt(2)"
   ]
  },
  {
   "cell_type": "code",
   "execution_count": 79,
   "metadata": {},
   "outputs": [
    {
     "data": {
      "text/plain": [
       "'2.2360679774997896964091736687312762354406183596115257242708972454105209256378048994144144083787822749'"
      ]
     },
     "execution_count": 79,
     "metadata": {},
     "output_type": "execute_result"
    }
   ],
   "source": [
    "sqrt(5)"
   ]
  },
  {
   "cell_type": "markdown",
   "metadata": {},
   "source": [
    "#### Task: Use scipy.stats to verify this value and calculate the associated p value\n",
    "-------------------------------------------------------------------------------\n",
    "\n",
    "The Chi-squared test for independence is a statistical hypothesis test like a t-test. It is used to analyse whether two categorical variables are independent. The Wikipedia article in the research section, gives the table below as an example [1],\n",
    "stating the Chi-squared value based on it is approximately 24.6. <br><br>\n",
    "\n",
    "|             | A   | B   | C   | D   | Total  |\n",
    "| ----------- | ----| ----| ----| ----|--------|\n",
    "| White collar| 90  | 60  | 104 | 95  | 349    |\n",
    "| Blue collar | 30  | 50  | 51  | 20  | 151    |\n",
    "| No collar   | 30  | 40  | 45  | 35  | 150    |\n",
    "| Total       | 150 | 150 | 200 | 150 | 650    |\n",
    "\n",
    "<br><br>\n",
    "\n",
    "The code below is verifying that the chi square value is correct and also prints out the p value. The code first creates a table with the data given and prints it out using the panda library.[2] The table that is printed is the same table as seen above. The data is stored in a variable named \"data\". We next use the scipy.stats library to figure out the Expected value, the p value, the actual chi square value and the degree of freedom. We use the  \" stats.chi2_contingency(data)\" to get these values. This method returns all those values based on the marginal sums under the assumption of independence. The assumptions are:\n",
    "1. the observations are independent and\n",
    "2. normally distributed \n",
    "\n",
    "All the references used in this task can be found in the README."
   ]
  },
  {
   "cell_type": "code",
   "execution_count": 7,
   "metadata": {},
   "outputs": [
    {
     "name": "stdout",
     "output_type": "stream",
     "text": [
      "The approximate chi squared value is: 24.6 \n",
      "\n",
      "The associated p value is: 0.0004098425861096696 \n",
      "\n",
      "The Degree of Freedom is: 6 \n",
      "\n",
      "The expected frequencies are: \n",
      " [[ 80.53846154  80.53846154 107.38461538  80.53846154]\n",
      " [ 34.84615385  34.84615385  46.46153846  34.84615385]\n",
      " [ 34.61538462  34.61538462  46.15384615  34.61538462]] \n",
      "\n"
     ]
    }
   ],
   "source": [
    "#required class - print out the table\n",
    "import scipy.stats as stats\n",
    "\n",
    "#data to be inserted into the columns\n",
    "data = [[90,60,104,95], [30,50,51,20],[30,40,45,35]]\n",
    "\n",
    "#returns 4 values\n",
    "#Get the chi square value, the p value, the degree of freedom and the expected frequencies\n",
    "chi2, p, dof, ex = stats.chi2_contingency(data)\n",
    "\n",
    "#the chi squared value\n",
    "print(\"The approximate chi squared value is: %.1f\" % chi2, \"\\n\")\n",
    "#the associated p value\n",
    "print(\"The associated p value is:\", p, \"\\n\")\n",
    "# the degrees of freedom - number of values in the final calculation of a statistic that are free to vary\n",
    "print(\"The Degree of Freedom is:\" ,dof, \"\\n\")\n",
    "#the expected frequencies\n",
    "print(\"The expected frequencies are: \\n\",ex, \"\\n\")"
   ]
  },
  {
   "cell_type": "code",
   "execution_count": null,
   "metadata": {},
   "outputs": [],
   "source": []
  }
 ],
 "metadata": {
  "kernelspec": {
   "display_name": "Python 3",
   "language": "python",
   "name": "python3"
  },
  "language_info": {
   "codemirror_mode": {
    "name": "ipython",
    "version": 3
   },
   "file_extension": ".py",
   "mimetype": "text/x-python",
   "name": "python",
   "nbconvert_exporter": "python",
   "pygments_lexer": "ipython3",
   "version": "3.8.3"
  }
 },
 "nbformat": 4,
 "nbformat_minor": 4
}
