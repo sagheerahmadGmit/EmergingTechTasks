{
 "cells": [
  {
   "cell_type": "markdown",
   "metadata": {},
   "source": [
    "# Tasks\n",
    "\n",
    "These are my solutions to the tasks that I must complete for the 2020 Emerging Technology module. My name is Sagheer Ahmad (G00357770@gmit.ie).\n",
    "***"
   ]
  },
  {
   "cell_type": "markdown",
   "metadata": {},
   "source": [
    "#### Task: Calculate a square root to 100 decimal places\n",
    "\n",
    "One of the ways we can calculate the square root of a number is by using Newton's Method.[1,2,3]. Newton's Method uses a specific formula, seen below, to calculate the square root. It is known an an iterative method and approximates roots of equations. The algorithm starts off by guessing the square root of the given number as x > 0. It then computes a more accurate guess by taking the derivative of f(x) to get f'(x) and plug it into the formula. We then repeat the formula until we get a better and more accurate guess. The problem that I encountered with this formula was that it does not print out the value to 100 decimal places. It prints out the first 52 values and the rest are left as Zeros.\n",
    "\n",
    "<br />\n",
    "\n",
    "$$ z_{next} = z - \\frac{z^2 -x}{2z} $$\n",
    "\n",
    "<br /> <br />\n",
    "\n",
    "The formula shown below first calculats the square root of two to one hundred decimal places and prints it out. But when it was printed out the value was a big number with no decimal places. In order to add a decimal place the number had to be converted into a list and the . could be inserted then. The list is then joined together and printed out as a string."
   ]
  },
  {
   "cell_type": "code",
   "execution_count": 2,
   "metadata": {},
   "outputs": [],
   "source": [
    "#Calculate the sqaure root of a number\n",
    "def sqrt(x):\n",
    "    \n",
    "    \"\"\"\n",
    "    A function to calculate the square root of a number x.\n",
    "    \"\"\"\n",
    "    \n",
    "    # Initial guess for the square root z.\n",
    "    #z = x / 2\n",
    "    \n",
    "    #while abs(x - (z * z)) > 0.000001: Newtons Method\n",
    "    #Newthon's Method\n",
    "        #z -= (z*z - x) / (2 * z)\n",
    "    \n",
    "    #bring all the numbers from the right to the left\n",
    "    x = x * (10**(200))\n",
    "    y = 0\n",
    "    #set z to a googol\n",
    "    z = 1 * (10**100)\n",
    "    \n",
    "    # Loop until we are happy with the accuracy.\n",
    "    while y != z:     \n",
    "        #set y to z\n",
    "        y = z\n",
    "        # get the square root and get the floor division\n",
    "        #bit shift 1 to the right\n",
    "        z = (y + (x // y)) >> 1\n",
    "    \n",
    "    #convert square root to a list\n",
    "    listZ = list(str(z))\n",
    "    #add the . after the first number\n",
    "    listZ.insert(1, '.')\n",
    "    #join the . to the numbers\n",
    "    num = \"\".join(listZ)\n",
    "    #return the (approximate) square root of x as a string\n",
    "    return num"
   ]
  },
  {
   "cell_type": "markdown",
   "metadata": {},
   "source": [
    "##### Tests of the sqrt function - Testing the function with known values\n",
    "\n",
    "***"
   ]
  },
  {
   "cell_type": "code",
   "execution_count": 3,
   "metadata": {},
   "outputs": [
    {
     "data": {
      "text/plain": [
       "'1.4142135623730950488016887242096980785696718753769480731766797379907324784621070388503875343276415727'"
      ]
     },
     "execution_count": 3,
     "metadata": {},
     "output_type": "execute_result"
    }
   ],
   "source": [
    "#Test the function with random values\n",
    "sqrt(2)"
   ]
  },
  {
   "cell_type": "code",
   "execution_count": 4,
   "metadata": {},
   "outputs": [
    {
     "data": {
      "text/plain": [
       "'2.2360679774997896964091736687312762354406183596115257242708972454105209256378048994144144083787822749'"
      ]
     },
     "execution_count": 4,
     "metadata": {},
     "output_type": "execute_result"
    }
   ],
   "source": [
    "sqrt(5)"
   ]
  },
  {
   "cell_type": "markdown",
   "metadata": {},
   "source": [
    "#### Task: Use scipy.stats to verify this value and calculate the associated p value\n",
    "-------------------------------------------------------------------------------\n",
    "\n",
    "The Chi-squared test for independence is a statistical hypothesis test like a t-test. It is used to analyse whether two categorical variables are independent. The Wikipedia article in the research section, gives the table below as an example [4],\n",
    "stating the Chi-squared value based on it is approximately 24.6. <br>\n",
    "\n",
    "|             | A   | B   | C   | D   | Total  |\n",
    "| ----------- | ----| ----| ----| ----|--------|\n",
    "| White collar| 90  | 60  | 104 | 95  | 349    |\n",
    "| Blue collar | 30  | 50  | 51  | 20  | 151    |\n",
    "| No collar   | 30  | 40  | 45  | 35  | 150    |\n",
    "| Total       | 150 | 150 | 200 | 150 | 650    |\n",
    "\n",
    "\n",
    "https://datatofish.com/create-pandas-dataframe/"
   ]
  },
  {
   "cell_type": "code",
   "execution_count": 29,
   "metadata": {},
   "outputs": [
    {
     "name": "stdout",
     "output_type": "stream",
     "text": [
      "                A    B    C    D\n",
      "White Collar   90   60  104   95\n",
      "Blue Collar    30   50   51   20\n",
      "No Collar      30   40   45   35\n",
      "Total         150  150  200  150\n"
     ]
    }
   ],
   "source": [
    "#required class - print out the table\n",
    "import pandas as pd\n",
    "import scipy.stats as stats\n",
    "\n",
    "#data to be inserted into the columns\n",
    "cars = {'A': [90,30,30,150],\n",
    "        'B': [60,50,40,150],\n",
    "        'C': [104,51,45,200],\n",
    "        'D': [95,20,35,150],\n",
    "        'Total': [349,151,150,650]\n",
    "        }\n",
    "\n",
    "df = pd.DataFrame(cars, columns = ['A','B', 'C', 'D'], index=['White Collar','Blue Collar','No Collar','Total'])\n",
    "\n",
    "print (df)"
   ]
  }
 ],
 "metadata": {
  "kernelspec": {
   "display_name": "Python 3",
   "language": "python",
   "name": "python3"
  },
  "language_info": {
   "codemirror_mode": {
    "name": "ipython",
    "version": 3
   },
   "file_extension": ".py",
   "mimetype": "text/x-python",
   "name": "python",
   "nbconvert_exporter": "python",
   "pygments_lexer": "ipython3",
   "version": "3.8.3"
  }
 },
 "nbformat": 4,
 "nbformat_minor": 4
}
