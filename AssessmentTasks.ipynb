{
 "cells": [
  {
   "cell_type": "markdown",
   "metadata": {},
   "source": [
    "# Tasks\n",
    "\n",
    "These are my solutions to the tasks that I must complete for the 2020 Emerging Technology module. My name is Sagheer Ahmad (G00357770@gmit.ie).\n",
    "***"
   ]
  },
  {
   "cell_type": "markdown",
   "metadata": {},
   "source": [
    "#### Task: Calculate a square root to 100 decimal places\n",
    "\n",
    "According to the Oxford Dictionary a square root is a \"a number which produces a specified quantity when multiplied by itself\". There are many ways to determine the the square root of a number. I will be discussing one of these methods and then trying to code a program that will be able to get the square root of a specified number and print it out to 100 decimal places.\n",
    "\n",
    "One of the ways we can calculate the square root of a number is by using Newton's Method.[1,2,3]. Newton's Method uses a specific formula, seen below, to calculate the square root. It is known an an iterative method and approximates roots of equations. The algorithm starts off by guessing the square root of the given number as x > 0. It then computes a more accurate guess by taking the derivative of f(x) to get f'(x) and plug it into the formula. We then repeat the formula until we get a better and more accurate guess. \n",
    "\n",
    "<br />\n",
    "\n",
    "$$ z_{next} = z - \\frac{z^2 -x}{2z} $$\n",
    "\n",
    "<br /> <br />\n",
    "\n",
    "\n",
    "[1] A tour of GO; Exercise: Loops and functions; https://tour.golang.org/flowcontrol/8\n",
    "\n",
    "[2] Newthon's Method: https://en.wikipedia.org/wiki/Newton%27s_method\n",
    "\n",
    "[3] Newthon's Method: https://www.youtube.com/watch?v=E24zUEKqgwQ&ab_channel=OscarVeliz\n",
    "\n",
    "[4] Calculating the square root of 2: https://stackoverflow.com/questions/5187664/generating-digits-of-square-root-of-2\n",
    "\n",
    "[5] Coverting a number to a list: https://stackoverflow.com/questions/53976250/how-to-add-dot-separator-on-different-positions-of-a-number-in-python"
   ]
  },
  {
   "cell_type": "code",
   "execution_count": 8,
   "metadata": {},
   "outputs": [],
   "source": [
    "#Calculate the sqaure root of a number\n",
    "def sqrt(x):\n",
    "    \n",
    "    \"\"\"\n",
    "    A function to calculate the square root of a number x.\n",
    "    \"\"\"\n",
    "    \n",
    "    # Initial guess for the square root z.\n",
    "    #z = x / 2\n",
    "    \n",
    "    #while abs(x - (z * z)) > 0.000001: Newtons Method\n",
    "    #Newthon's Method\n",
    "        #z -= (z*z - x) / (2 * z)\n",
    "    \n",
    "    #bring all the numbers from the right to the left\n",
    "    x = x * (10**(200))\n",
    "    y = 0\n",
    "    #set z to a googol\n",
    "    z = 1 * (10**100)\n",
    "    \n",
    "    # Loop until we are happy with the accuracy.\n",
    "    while y != z:     \n",
    "        #set y to z\n",
    "        y = z\n",
    "        # get the square root and get the floor division\n",
    "        #bit shift 1 to the rightg\n",
    "        z = (y + (x // y)) >> 1\n",
    "    \n",
    "    #convert square root to a list\n",
    "    listZ = list(str(z))\n",
    "    #add the . after the first number\n",
    "    listZ.insert(1, '.')\n",
    "    #join the . to the numbers\n",
    "    num = \"\".join(listZ)\n",
    "    #return the (approximate) square root of x as a string\n",
    "    return num"
   ]
  },
  {
   "cell_type": "markdown",
   "metadata": {},
   "source": [
    "##### Tests of the sqrt function - Testing the function with known values\n",
    "\n",
    "***"
   ]
  },
  {
   "cell_type": "code",
   "execution_count": 9,
   "metadata": {},
   "outputs": [
    {
     "data": {
      "text/plain": [
       "'1.4142135623730950488016887242096980785696718753769480731766797379907324784621070388503875343276415727'"
      ]
     },
     "execution_count": 9,
     "metadata": {},
     "output_type": "execute_result"
    }
   ],
   "source": [
    "#Test the function with random values\n",
    "sqrt(2)"
   ]
  },
  {
   "cell_type": "code",
   "execution_count": 10,
   "metadata": {},
   "outputs": [
    {
     "data": {
      "text/plain": [
       "'2.2360679774997896964091736687312762354406183596115257242708972454105209256378048994144144083787822749'"
      ]
     },
     "execution_count": 10,
     "metadata": {},
     "output_type": "execute_result"
    }
   ],
   "source": [
    "sqrt(5)"
   ]
  },
  {
   "cell_type": "code",
   "execution_count": null,
   "metadata": {},
   "outputs": [],
   "source": []
  }
 ],
 "metadata": {
  "kernelspec": {
   "display_name": "Python 3",
   "language": "python",
   "name": "python3"
  },
  "language_info": {
   "codemirror_mode": {
    "name": "ipython",
    "version": 3
   },
   "file_extension": ".py",
   "mimetype": "text/x-python",
   "name": "python",
   "nbconvert_exporter": "python",
   "pygments_lexer": "ipython3",
   "version": "3.8.3"
  }
 },
 "nbformat": 4,
 "nbformat_minor": 4
}
